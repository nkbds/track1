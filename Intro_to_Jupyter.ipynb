{
 "cells": [
  {
   "cell_type": "markdown",
   "metadata": {},
   "source": [
    "# Introduction to the Hands-On Full Life Cycle Data Science Workshop\n",
    "\n",
    "### Steve Johnson and Lisianne Pruinelli\n",
    "\n",
    "#### 2018 Nursing Knowledge: Big Data Science Pre-Conference\n",
    "\n",
    "#### 6/13/18"
   ]
  },
  {
   "cell_type": "markdown",
   "metadata": {
    "collapsed": true
   },
   "source": [
    "# Data Science Ecosystem - Python\n"
   ]
  },
  {
   "cell_type": "markdown",
   "metadata": {
    "collapsed": true
   },
   "source": [
    "# Setup Jupyter Environment\n"
   ]
  },
  {
   "cell_type": "code",
   "execution_count": null,
   "metadata": {
    "collapsed": true
   },
   "outputs": [],
   "source": [
    "# Import required modules\n",
    "import pandas as pd\n",
    "import numpy as np\n",
    "from matplotlib import pyplot as plt\n",
    "import seaborn as sns\n",
    "import matplotlib as mplot\n",
    "%matplotlib inline\n",
    "import IPython\n",
    "import os\n",
    "from os import listdir"
   ]
  },
  {
   "cell_type": "markdown",
   "metadata": {},
   "source": [
    "## Jupyter Quick Start"
   ]
  },
  {
   "cell_type": "code",
   "execution_count": null,
   "metadata": {
    "collapsed": true
   },
   "outputs": [],
   "source": [
    "# Keyboard shortcuts\n",
    "\n",
    "# Executing cells - Shift-Enter, Ctrl-Enter\n",
    "#     Return\n",
    "# Run All, above, below\n",
    "# Adding cells - A, B\n",
    "# Code vs Markdown\n",
    "# Moving cells\n",
    "# Split and Merge Cells - Shift-Ctrl-_, Ctrl-M,Shift-M\n",
    "# Copy, Cut, Paste - Ctrl-C, Ctrl-X, Ctrl-V\n",
    "# Undo - Ctrl-Z\n",
    "# Select all - Ctrl-A\n",
    "# Comment Cell - Ctrl-/"
   ]
  },
  {
   "cell_type": "code",
   "execution_count": null,
   "metadata": {
    "collapsed": true
   },
   "outputs": [],
   "source": [
    "# Get help for a function\n",
    "pd.read_csv??"
   ]
  },
  {
   "cell_type": "code",
   "execution_count": null,
   "metadata": {
    "collapsed": true
   },
   "outputs": [],
   "source": [
    "# Debug / Stack trace\n",
    "#print(steve)\n",
    "    "
   ]
  },
  {
   "cell_type": "markdown",
   "metadata": {},
   "source": [
    "## Pandas Dataframes\n",
    "\n",
    "Pandas is one of the most important packages for performing data science in Python.  The DataFrame makes it easy to manipulate data in a spreadsheet-like way by organizing data into rows and columns of data.\n",
    "\n",
    "In Pandas, the columns of data are called `Series`.  They have a data type and functionality to manipulate all of the data in that column collectively.  Groups of `Series` can be connected together to form a DataFrame."
   ]
  },
  {
   "cell_type": "code",
   "execution_count": null,
   "metadata": {
    "collapsed": true
   },
   "outputs": [],
   "source": [
    "# Create some Series to use for our tutorial\n",
    "s1 = pd.Series([1,3,5,7,9], name='odds', dtype=int)\n",
    "s2 = pd.Series([2,4,6,8,10], name='evens', dtype=int)\n",
    "s3 = pd.Series(['Monday','Tuesday','Wednesday','Thursday','Friday'], name='days', dtype=str)\n",
    "                \n",
    "# How many elements?\n",
    "print(len(s2))\n",
    "\n",
    "# Apply functions \n",
    "print(s1.mean())\n",
    "                \n",
    "            "
   ]
  },
  {
   "cell_type": "code",
   "execution_count": null,
   "metadata": {
    "collapsed": true
   },
   "outputs": [],
   "source": [
    "# Now lets create a DataFrame\n",
    "# axis=1 means to treat each Series as a column.  axis=2 would treat each Series as a row\n",
    "df = pd.concat([s1,s2,s3],axis=1)\n",
    "\n",
    "# Jupyter displays DataFrames in a nice-looking table.  \n",
    "# We will sometimes convert objects into DataFrames just to make the output pretty\n",
    "display(df)"
   ]
  },
  {
   "cell_type": "code",
   "execution_count": null,
   "metadata": {
    "collapsed": true
   },
   "outputs": [],
   "source": [
    "# Usually, DataFrames are much bigger than 5 rows.  \n",
    "# Use .head and .tail to see the first and last rows\n",
    "\n",
    "display(df.head(3))\n",
    "display(df.tail(3))"
   ]
  },
  {
   "cell_type": "code",
   "execution_count": null,
   "metadata": {
    "collapsed": true
   },
   "outputs": [],
   "source": [
    "# The .shape attribute is also useful to see how many rows and columns are in a DataFrame\n",
    "\n",
    "print(df.shape)"
   ]
  },
  {
   "cell_type": "code",
   "execution_count": null,
   "metadata": {
    "collapsed": true
   },
   "outputs": [],
   "source": [
    "# DataFrames have a powerful set of features for selecting data\n",
    "\n",
    "# .iloc : Indexing rows and columns using integers \n",
    "# Get the first row and all of the columns.  \n",
    "# The \":\" is a python range which means \"all of the columns\"\n",
    "first_row = df.iloc[0,:]\n",
    "display(type(first_row), first_row)\n",
    "\n",
    "# Get the first column\n",
    "first_col = df.iloc[:,0]\n",
    "display(type(first_col), first_col)\n"
   ]
  },
  {
   "cell_type": "code",
   "execution_count": null,
   "metadata": {
    "collapsed": true
   },
   "outputs": [],
   "source": [
    "# We can also get columns using their names\n",
    "first_col = df['odds']\n",
    "display(first_col)\n",
    "\n",
    "# Or multiple columns\n",
    "first_2_cols = df[['odds','evens']]\n",
    "display(first_2_cols)"
   ]
  },
  {
   "cell_type": "code",
   "execution_count": null,
   "metadata": {
    "collapsed": true
   },
   "outputs": [],
   "source": [
    "# More powerful selection is accomplished using Boolean Indexing\n",
    "# First, we create a boolean filter using a function or conditional\n",
    "\n",
    "filter = df['odds'] > 5\n",
    "\n",
    "# This creates a Series with cells that are True if the condition holds or False if it does not\n",
    "display(filter)\n",
    "\n",
    "# We can use this to filter out the cells that we want\n",
    "filtered_rows = df[filter]\n",
    "display(filtered_rows)\n",
    "\n",
    "# You can combine Boolean Indexing for more complex selections\n",
    "display(df[(df['odds'] > 5) | (df['days'] == 'Monday')])\n"
   ]
  },
  {
   "cell_type": "code",
   "execution_count": null,
   "metadata": {
    "collapsed": true
   },
   "outputs": [],
   "source": [
    "# We can apply functions to everything in the DataFrame at the same time\n",
    "display(df.mean())\n",
    "display(df.corr())\n",
    "\n",
    "# We can apply an arbitray function using .apply\n",
    "# Python lambda's are functions that don't have to be pre-defined\n",
    "display(df.apply(lambda x: x/2))\n",
    "\n",
    "#display(df[['odds','evens']].apply(lambda x: x/2))"
   ]
  }
 ],
 "metadata": {
  "kernelspec": {
   "display_name": "Python 3",
   "language": "python",
   "name": "python3"
  },
  "language_info": {
   "codemirror_mode": {
    "name": "ipython",
    "version": 3
   },
   "file_extension": ".py",
   "mimetype": "text/x-python",
   "name": "python",
   "nbconvert_exporter": "python",
   "pygments_lexer": "ipython3",
   "version": "3.6.4"
  }
 },
 "nbformat": 4,
 "nbformat_minor": 2
}
